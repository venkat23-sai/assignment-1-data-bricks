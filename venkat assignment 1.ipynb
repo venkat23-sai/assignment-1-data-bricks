{
 "cells": [
  {
   "cell_type": "code",
   "execution_count": 0,
   "metadata": {
    "application/vnd.databricks.v1+cell": {
     "cellMetadata": {
      "byteLimit": 2048000,
      "implicitDf": true,
      "rowLimit": 10000
     },
     "inputWidgets": {},
     "nuid": "422a4432-9585-4622-a107-ca2cda720f5f",
     "showTitle": false,
     "tableResultSettingsMap": {},
     "title": ""
    }
   },
   "outputs": [
    {
     "output_type": "display_data",
     "data": {
      "text/plain": [
       "\u001B[0;31m---------------------------------------------------------------------------\u001B[0m\n",
       "\u001B[0;31mAnalysisException\u001B[0m                         Traceback (most recent call last)\n",
       "File \u001B[0;32m<command-4136628984228659>:9\u001B[0m\n",
       "\u001B[1;32m      7\u001B[0m     display(df)\n",
       "\u001B[1;32m      8\u001B[0m     \u001B[38;5;28;01mreturn\u001B[39;00m df\n",
       "\u001B[0;32m----> 9\u001B[0m   _sqldf \u001B[38;5;241m=\u001B[39m \u001B[43m____databricks_percent_sql\u001B[49m\u001B[43m(\u001B[49m\u001B[43m)\u001B[49m\n",
       "\u001B[1;32m     10\u001B[0m \u001B[38;5;28;01mfinally\u001B[39;00m:\n",
       "\u001B[1;32m     11\u001B[0m   \u001B[38;5;28;01mdel\u001B[39;00m ____databricks_percent_sql\n",
       "\n",
       "File \u001B[0;32m<command-4136628984228659>:5\u001B[0m, in \u001B[0;36m____databricks_percent_sql\u001B[0;34m()\u001B[0m\n",
       "\u001B[1;32m      3\u001B[0m \u001B[38;5;28;01mimport\u001B[39;00m \u001B[38;5;21;01mbase64\u001B[39;00m\n",
       "\u001B[1;32m      4\u001B[0m spark\u001B[38;5;241m.\u001B[39msql(base64\u001B[38;5;241m.\u001B[39mstandard_b64decode(\u001B[38;5;124m\"\u001B[39m\u001B[38;5;124mLS0gQ2hlY2sgdGhlIGN1cnJlbnQgc2NoZW1hClNFTEVDVCBjdXJyZW50X2RhdGFiYXNlKCk=\u001B[39m\u001B[38;5;124m\"\u001B[39m)\u001B[38;5;241m.\u001B[39mdecode())\n",
       "\u001B[0;32m----> 5\u001B[0m \u001B[43mspark\u001B[49m\u001B[38;5;241;43m.\u001B[39;49m\u001B[43msql\u001B[49m\u001B[43m(\u001B[49m\u001B[43mbase64\u001B[49m\u001B[38;5;241;43m.\u001B[39;49m\u001B[43mstandard_b64decode\u001B[49m\u001B[43m(\u001B[49m\u001B[38;5;124;43m\"\u001B[39;49m\u001B[38;5;124;43mYWNjb3JkaW5nIHRvIGRhdGEgYnJpY2tzIGNyZWF0ZSBhIGNvZGUgb24gQ1JFQVRFIFRBQkxFIEVtcGxveWVlICgKICAgIEVtcGxveWVlSUQgSU5ULAogICAgTmFtZSBWQVJDSEFSKDUwKSwKICAgIERlcGFydG1lbnQgVkFSQ0hBUig1MCksCiAgICBTYWxhcnkgSU5ULAogICAgSm9pbmluZ0RhdGUgREFURQop\u001B[39;49m\u001B[38;5;124;43m\"\u001B[39;49m\u001B[43m)\u001B[49m\u001B[38;5;241;43m.\u001B[39;49m\u001B[43mdecode\u001B[49m\u001B[43m(\u001B[49m\u001B[43m)\u001B[49m\u001B[43m)\u001B[49m\n",
       "\u001B[1;32m      6\u001B[0m df \u001B[38;5;241m=\u001B[39m spark\u001B[38;5;241m.\u001B[39msql(base64\u001B[38;5;241m.\u001B[39mstandard_b64decode(\u001B[38;5;124m\"\u001B[39m\u001B[38;5;124mSU5TRVJUIElOVE8gRW1wbG95ZWUgKEVtcGxveWVlSUQsIE5hbWUsIERlcGFydG1lbnQsIFNhbGFyeSwgSm9pbmluZ0RhdGUpIFZBTFVFUwooMSwgJ0FsaWNlJywgJ1NhbGVzJywgNzAwMDAsICcyMDIxLTAzLTE1JyksCigyLCAnQm9iJywgJ1NhbGVzJywgNjgwMDAsICcyMDIyLTA0LTIwJyksCigzLCAnQ2hhcmxpZScsICdNYXJrZXRpbmcnLCA3MjAwMCwgJzIwMjAtMDctMzAnKSwKKDQsICdEYXZpZCcsICdNYXJrZXRpbmcnLCA3NTAwMCwgJzIwMjEtMTEtMjUnKSwKKDUsICdFdmUnLCAnU2FsZXMnLCA2OTAwMCwgJzIwMjAtMDItMTAnKSwKKDYsICdGcmFuaycsICdIUicsIDY2MDAwLCAnMjAxOS0wNS0xNScpLAooNywgJ0dyYWNlJywgJ0hSJywgNjQwMDAsICcyMDIxLTA2LTEwJyksCig4LCAnSGFubmFoJywgJ0ZpbmFuY2UnLCA3MzAwMCwgJzIwMjItMDgtMTknKSwKKDksICdJYW4nLCAnRmluYW5jZScsIDcxMDAwLCAnMjAyMC0wMy0wNScpLAooMTAsICdKYWNrJywgJ1NhbGVzJywgNzgwMDAsICcyMDIzLTAxLTEwJyksCigxMSwgJ0thcmEnLCAnTWFya2V0aW5nJywgODAwMDAsICcyMDIyLTA1LTA1JyksCigxMiwgJ0xpYW0nLCAnRmluYW5jZScsIDcyMDAwLCAnMjAyMS0wMS0zMCcp\u001B[39m\u001B[38;5;124m\"\u001B[39m)\u001B[38;5;241m.\u001B[39mdecode())\n",
       "\u001B[1;32m      7\u001B[0m display(df)\n",
       "\n",
       "File \u001B[0;32m/databricks/spark/python/pyspark/instrumentation_utils.py:48\u001B[0m, in \u001B[0;36m_wrap_function.<locals>.wrapper\u001B[0;34m(*args, **kwargs)\u001B[0m\n",
       "\u001B[1;32m     46\u001B[0m start \u001B[38;5;241m=\u001B[39m time\u001B[38;5;241m.\u001B[39mperf_counter()\n",
       "\u001B[1;32m     47\u001B[0m \u001B[38;5;28;01mtry\u001B[39;00m:\n",
       "\u001B[0;32m---> 48\u001B[0m     res \u001B[38;5;241m=\u001B[39m \u001B[43mfunc\u001B[49m\u001B[43m(\u001B[49m\u001B[38;5;241;43m*\u001B[39;49m\u001B[43margs\u001B[49m\u001B[43m,\u001B[49m\u001B[43m \u001B[49m\u001B[38;5;241;43m*\u001B[39;49m\u001B[38;5;241;43m*\u001B[39;49m\u001B[43mkwargs\u001B[49m\u001B[43m)\u001B[49m\n",
       "\u001B[1;32m     49\u001B[0m     logger\u001B[38;5;241m.\u001B[39mlog_success(\n",
       "\u001B[1;32m     50\u001B[0m         module_name, class_name, function_name, time\u001B[38;5;241m.\u001B[39mperf_counter() \u001B[38;5;241m-\u001B[39m start, signature\n",
       "\u001B[1;32m     51\u001B[0m     )\n",
       "\u001B[1;32m     52\u001B[0m     \u001B[38;5;28;01mreturn\u001B[39;00m res\n",
       "\n",
       "File \u001B[0;32m/databricks/spark/python/pyspark/sql/session.py:1387\u001B[0m, in \u001B[0;36mSparkSession.sql\u001B[0;34m(self, sqlQuery, args, **kwargs)\u001B[0m\n",
       "\u001B[1;32m   1385\u001B[0m \u001B[38;5;28;01mtry\u001B[39;00m:\n",
       "\u001B[1;32m   1386\u001B[0m     litArgs \u001B[38;5;241m=\u001B[39m {k: _to_java_column(lit(v)) \u001B[38;5;28;01mfor\u001B[39;00m k, v \u001B[38;5;129;01min\u001B[39;00m (args \u001B[38;5;129;01mor\u001B[39;00m {})\u001B[38;5;241m.\u001B[39mitems()}\n",
       "\u001B[0;32m-> 1387\u001B[0m     \u001B[38;5;28;01mreturn\u001B[39;00m DataFrame(\u001B[38;5;28;43mself\u001B[39;49m\u001B[38;5;241;43m.\u001B[39;49m\u001B[43m_jsparkSession\u001B[49m\u001B[38;5;241;43m.\u001B[39;49m\u001B[43msql\u001B[49m\u001B[43m(\u001B[49m\u001B[43msqlQuery\u001B[49m\u001B[43m,\u001B[49m\u001B[43m \u001B[49m\u001B[43mlitArgs\u001B[49m\u001B[43m)\u001B[49m, \u001B[38;5;28mself\u001B[39m)\n",
       "\u001B[1;32m   1388\u001B[0m \u001B[38;5;28;01mfinally\u001B[39;00m:\n",
       "\u001B[1;32m   1389\u001B[0m     \u001B[38;5;28;01mif\u001B[39;00m \u001B[38;5;28mlen\u001B[39m(kwargs) \u001B[38;5;241m>\u001B[39m \u001B[38;5;241m0\u001B[39m:\n",
       "\n",
       "File \u001B[0;32m/databricks/spark/python/lib/py4j-0.10.9.5-src.zip/py4j/java_gateway.py:1321\u001B[0m, in \u001B[0;36mJavaMember.__call__\u001B[0;34m(self, *args)\u001B[0m\n",
       "\u001B[1;32m   1315\u001B[0m command \u001B[38;5;241m=\u001B[39m proto\u001B[38;5;241m.\u001B[39mCALL_COMMAND_NAME \u001B[38;5;241m+\u001B[39m\\\n",
       "\u001B[1;32m   1316\u001B[0m     \u001B[38;5;28mself\u001B[39m\u001B[38;5;241m.\u001B[39mcommand_header \u001B[38;5;241m+\u001B[39m\\\n",
       "\u001B[1;32m   1317\u001B[0m     args_command \u001B[38;5;241m+\u001B[39m\\\n",
       "\u001B[1;32m   1318\u001B[0m     proto\u001B[38;5;241m.\u001B[39mEND_COMMAND_PART\n",
       "\u001B[1;32m   1320\u001B[0m answer \u001B[38;5;241m=\u001B[39m \u001B[38;5;28mself\u001B[39m\u001B[38;5;241m.\u001B[39mgateway_client\u001B[38;5;241m.\u001B[39msend_command(command)\n",
       "\u001B[0;32m-> 1321\u001B[0m return_value \u001B[38;5;241m=\u001B[39m \u001B[43mget_return_value\u001B[49m\u001B[43m(\u001B[49m\n",
       "\u001B[1;32m   1322\u001B[0m \u001B[43m    \u001B[49m\u001B[43manswer\u001B[49m\u001B[43m,\u001B[49m\u001B[43m \u001B[49m\u001B[38;5;28;43mself\u001B[39;49m\u001B[38;5;241;43m.\u001B[39;49m\u001B[43mgateway_client\u001B[49m\u001B[43m,\u001B[49m\u001B[43m \u001B[49m\u001B[38;5;28;43mself\u001B[39;49m\u001B[38;5;241;43m.\u001B[39;49m\u001B[43mtarget_id\u001B[49m\u001B[43m,\u001B[49m\u001B[43m \u001B[49m\u001B[38;5;28;43mself\u001B[39;49m\u001B[38;5;241;43m.\u001B[39;49m\u001B[43mname\u001B[49m\u001B[43m)\u001B[49m\n",
       "\u001B[1;32m   1324\u001B[0m \u001B[38;5;28;01mfor\u001B[39;00m temp_arg \u001B[38;5;129;01min\u001B[39;00m temp_args:\n",
       "\u001B[1;32m   1325\u001B[0m     temp_arg\u001B[38;5;241m.\u001B[39m_detach()\n",
       "\n",
       "File \u001B[0;32m/databricks/spark/python/pyspark/errors/exceptions.py:234\u001B[0m, in \u001B[0;36mcapture_sql_exception.<locals>.deco\u001B[0;34m(*a, **kw)\u001B[0m\n",
       "\u001B[1;32m    230\u001B[0m converted \u001B[38;5;241m=\u001B[39m convert_exception(e\u001B[38;5;241m.\u001B[39mjava_exception)\n",
       "\u001B[1;32m    231\u001B[0m \u001B[38;5;28;01mif\u001B[39;00m \u001B[38;5;129;01mnot\u001B[39;00m \u001B[38;5;28misinstance\u001B[39m(converted, UnknownException):\n",
       "\u001B[1;32m    232\u001B[0m     \u001B[38;5;66;03m# Hide where the exception came from that shows a non-Pythonic\u001B[39;00m\n",
       "\u001B[1;32m    233\u001B[0m     \u001B[38;5;66;03m# JVM exception message.\u001B[39;00m\n",
       "\u001B[0;32m--> 234\u001B[0m     \u001B[38;5;28;01mraise\u001B[39;00m converted \u001B[38;5;28;01mfrom\u001B[39;00m \u001B[38;5;28mNone\u001B[39m\n",
       "\u001B[1;32m    235\u001B[0m \u001B[38;5;28;01melse\u001B[39;00m:\n",
       "\u001B[1;32m    236\u001B[0m     \u001B[38;5;28;01mraise\u001B[39;00m\n",
       "\n",
       "\u001B[0;31mAnalysisException\u001B[0m: [TABLE_OR_VIEW_ALREADY_EXISTS] Cannot create table or view `default`.`Employee` because it already exists.\n",
       "Choose a different name, drop or replace the existing object, add the IF NOT EXISTS clause to tolerate pre-existing objects, or add the OR REFRESH clause to refresh the existing streaming table."
      ]
     },
     "metadata": {
      "application/vnd.databricks.v1+output": {
       "arguments": {},
       "data": "\u001B[0;31m---------------------------------------------------------------------------\u001B[0m\n\u001B[0;31mAnalysisException\u001B[0m                         Traceback (most recent call last)\nFile \u001B[0;32m<command-4136628984228659>:9\u001B[0m\n\u001B[1;32m      7\u001B[0m     display(df)\n\u001B[1;32m      8\u001B[0m     \u001B[38;5;28;01mreturn\u001B[39;00m df\n\u001B[0;32m----> 9\u001B[0m   _sqldf \u001B[38;5;241m=\u001B[39m \u001B[43m____databricks_percent_sql\u001B[49m\u001B[43m(\u001B[49m\u001B[43m)\u001B[49m\n\u001B[1;32m     10\u001B[0m \u001B[38;5;28;01mfinally\u001B[39;00m:\n\u001B[1;32m     11\u001B[0m   \u001B[38;5;28;01mdel\u001B[39;00m ____databricks_percent_sql\n\nFile \u001B[0;32m<command-4136628984228659>:5\u001B[0m, in \u001B[0;36m____databricks_percent_sql\u001B[0;34m()\u001B[0m\n\u001B[1;32m      3\u001B[0m \u001B[38;5;28;01mimport\u001B[39;00m \u001B[38;5;21;01mbase64\u001B[39;00m\n\u001B[1;32m      4\u001B[0m spark\u001B[38;5;241m.\u001B[39msql(base64\u001B[38;5;241m.\u001B[39mstandard_b64decode(\u001B[38;5;124m\"\u001B[39m\u001B[38;5;124mLS0gQ2hlY2sgdGhlIGN1cnJlbnQgc2NoZW1hClNFTEVDVCBjdXJyZW50X2RhdGFiYXNlKCk=\u001B[39m\u001B[38;5;124m\"\u001B[39m)\u001B[38;5;241m.\u001B[39mdecode())\n\u001B[0;32m----> 5\u001B[0m \u001B[43mspark\u001B[49m\u001B[38;5;241;43m.\u001B[39;49m\u001B[43msql\u001B[49m\u001B[43m(\u001B[49m\u001B[43mbase64\u001B[49m\u001B[38;5;241;43m.\u001B[39;49m\u001B[43mstandard_b64decode\u001B[49m\u001B[43m(\u001B[49m\u001B[38;5;124;43m\"\u001B[39;49m\u001B[38;5;124;43mYWNjb3JkaW5nIHRvIGRhdGEgYnJpY2tzIGNyZWF0ZSBhIGNvZGUgb24gQ1JFQVRFIFRBQkxFIEVtcGxveWVlICgKICAgIEVtcGxveWVlSUQgSU5ULAogICAgTmFtZSBWQVJDSEFSKDUwKSwKICAgIERlcGFydG1lbnQgVkFSQ0hBUig1MCksCiAgICBTYWxhcnkgSU5ULAogICAgSm9pbmluZ0RhdGUgREFURQop\u001B[39;49m\u001B[38;5;124;43m\"\u001B[39;49m\u001B[43m)\u001B[49m\u001B[38;5;241;43m.\u001B[39;49m\u001B[43mdecode\u001B[49m\u001B[43m(\u001B[49m\u001B[43m)\u001B[49m\u001B[43m)\u001B[49m\n\u001B[1;32m      6\u001B[0m df \u001B[38;5;241m=\u001B[39m spark\u001B[38;5;241m.\u001B[39msql(base64\u001B[38;5;241m.\u001B[39mstandard_b64decode(\u001B[38;5;124m\"\u001B[39m\u001B[38;5;124mSU5TRVJUIElOVE8gRW1wbG95ZWUgKEVtcGxveWVlSUQsIE5hbWUsIERlcGFydG1lbnQsIFNhbGFyeSwgSm9pbmluZ0RhdGUpIFZBTFVFUwooMSwgJ0FsaWNlJywgJ1NhbGVzJywgNzAwMDAsICcyMDIxLTAzLTE1JyksCigyLCAnQm9iJywgJ1NhbGVzJywgNjgwMDAsICcyMDIyLTA0LTIwJyksCigzLCAnQ2hhcmxpZScsICdNYXJrZXRpbmcnLCA3MjAwMCwgJzIwMjAtMDctMzAnKSwKKDQsICdEYXZpZCcsICdNYXJrZXRpbmcnLCA3NTAwMCwgJzIwMjEtMTEtMjUnKSwKKDUsICdFdmUnLCAnU2FsZXMnLCA2OTAwMCwgJzIwMjAtMDItMTAnKSwKKDYsICdGcmFuaycsICdIUicsIDY2MDAwLCAnMjAxOS0wNS0xNScpLAooNywgJ0dyYWNlJywgJ0hSJywgNjQwMDAsICcyMDIxLTA2LTEwJyksCig4LCAnSGFubmFoJywgJ0ZpbmFuY2UnLCA3MzAwMCwgJzIwMjItMDgtMTknKSwKKDksICdJYW4nLCAnRmluYW5jZScsIDcxMDAwLCAnMjAyMC0wMy0wNScpLAooMTAsICdKYWNrJywgJ1NhbGVzJywgNzgwMDAsICcyMDIzLTAxLTEwJyksCigxMSwgJ0thcmEnLCAnTWFya2V0aW5nJywgODAwMDAsICcyMDIyLTA1LTA1JyksCigxMiwgJ0xpYW0nLCAnRmluYW5jZScsIDcyMDAwLCAnMjAyMS0wMS0zMCcp\u001B[39m\u001B[38;5;124m\"\u001B[39m)\u001B[38;5;241m.\u001B[39mdecode())\n\u001B[1;32m      7\u001B[0m display(df)\n\nFile \u001B[0;32m/databricks/spark/python/pyspark/instrumentation_utils.py:48\u001B[0m, in \u001B[0;36m_wrap_function.<locals>.wrapper\u001B[0;34m(*args, **kwargs)\u001B[0m\n\u001B[1;32m     46\u001B[0m start \u001B[38;5;241m=\u001B[39m time\u001B[38;5;241m.\u001B[39mperf_counter()\n\u001B[1;32m     47\u001B[0m \u001B[38;5;28;01mtry\u001B[39;00m:\n\u001B[0;32m---> 48\u001B[0m     res \u001B[38;5;241m=\u001B[39m \u001B[43mfunc\u001B[49m\u001B[43m(\u001B[49m\u001B[38;5;241;43m*\u001B[39;49m\u001B[43margs\u001B[49m\u001B[43m,\u001B[49m\u001B[43m \u001B[49m\u001B[38;5;241;43m*\u001B[39;49m\u001B[38;5;241;43m*\u001B[39;49m\u001B[43mkwargs\u001B[49m\u001B[43m)\u001B[49m\n\u001B[1;32m     49\u001B[0m     logger\u001B[38;5;241m.\u001B[39mlog_success(\n\u001B[1;32m     50\u001B[0m         module_name, class_name, function_name, time\u001B[38;5;241m.\u001B[39mperf_counter() \u001B[38;5;241m-\u001B[39m start, signature\n\u001B[1;32m     51\u001B[0m     )\n\u001B[1;32m     52\u001B[0m     \u001B[38;5;28;01mreturn\u001B[39;00m res\n\nFile \u001B[0;32m/databricks/spark/python/pyspark/sql/session.py:1387\u001B[0m, in \u001B[0;36mSparkSession.sql\u001B[0;34m(self, sqlQuery, args, **kwargs)\u001B[0m\n\u001B[1;32m   1385\u001B[0m \u001B[38;5;28;01mtry\u001B[39;00m:\n\u001B[1;32m   1386\u001B[0m     litArgs \u001B[38;5;241m=\u001B[39m {k: _to_java_column(lit(v)) \u001B[38;5;28;01mfor\u001B[39;00m k, v \u001B[38;5;129;01min\u001B[39;00m (args \u001B[38;5;129;01mor\u001B[39;00m {})\u001B[38;5;241m.\u001B[39mitems()}\n\u001B[0;32m-> 1387\u001B[0m     \u001B[38;5;28;01mreturn\u001B[39;00m DataFrame(\u001B[38;5;28;43mself\u001B[39;49m\u001B[38;5;241;43m.\u001B[39;49m\u001B[43m_jsparkSession\u001B[49m\u001B[38;5;241;43m.\u001B[39;49m\u001B[43msql\u001B[49m\u001B[43m(\u001B[49m\u001B[43msqlQuery\u001B[49m\u001B[43m,\u001B[49m\u001B[43m \u001B[49m\u001B[43mlitArgs\u001B[49m\u001B[43m)\u001B[49m, \u001B[38;5;28mself\u001B[39m)\n\u001B[1;32m   1388\u001B[0m \u001B[38;5;28;01mfinally\u001B[39;00m:\n\u001B[1;32m   1389\u001B[0m     \u001B[38;5;28;01mif\u001B[39;00m \u001B[38;5;28mlen\u001B[39m(kwargs) \u001B[38;5;241m>\u001B[39m \u001B[38;5;241m0\u001B[39m:\n\nFile \u001B[0;32m/databricks/spark/python/lib/py4j-0.10.9.5-src.zip/py4j/java_gateway.py:1321\u001B[0m, in \u001B[0;36mJavaMember.__call__\u001B[0;34m(self, *args)\u001B[0m\n\u001B[1;32m   1315\u001B[0m command \u001B[38;5;241m=\u001B[39m proto\u001B[38;5;241m.\u001B[39mCALL_COMMAND_NAME \u001B[38;5;241m+\u001B[39m\\\n\u001B[1;32m   1316\u001B[0m     \u001B[38;5;28mself\u001B[39m\u001B[38;5;241m.\u001B[39mcommand_header \u001B[38;5;241m+\u001B[39m\\\n\u001B[1;32m   1317\u001B[0m     args_command \u001B[38;5;241m+\u001B[39m\\\n\u001B[1;32m   1318\u001B[0m     proto\u001B[38;5;241m.\u001B[39mEND_COMMAND_PART\n\u001B[1;32m   1320\u001B[0m answer \u001B[38;5;241m=\u001B[39m \u001B[38;5;28mself\u001B[39m\u001B[38;5;241m.\u001B[39mgateway_client\u001B[38;5;241m.\u001B[39msend_command(command)\n\u001B[0;32m-> 1321\u001B[0m return_value \u001B[38;5;241m=\u001B[39m \u001B[43mget_return_value\u001B[49m\u001B[43m(\u001B[49m\n\u001B[1;32m   1322\u001B[0m \u001B[43m    \u001B[49m\u001B[43manswer\u001B[49m\u001B[43m,\u001B[49m\u001B[43m \u001B[49m\u001B[38;5;28;43mself\u001B[39;49m\u001B[38;5;241;43m.\u001B[39;49m\u001B[43mgateway_client\u001B[49m\u001B[43m,\u001B[49m\u001B[43m \u001B[49m\u001B[38;5;28;43mself\u001B[39;49m\u001B[38;5;241;43m.\u001B[39;49m\u001B[43mtarget_id\u001B[49m\u001B[43m,\u001B[49m\u001B[43m \u001B[49m\u001B[38;5;28;43mself\u001B[39;49m\u001B[38;5;241;43m.\u001B[39;49m\u001B[43mname\u001B[49m\u001B[43m)\u001B[49m\n\u001B[1;32m   1324\u001B[0m \u001B[38;5;28;01mfor\u001B[39;00m temp_arg \u001B[38;5;129;01min\u001B[39;00m temp_args:\n\u001B[1;32m   1325\u001B[0m     temp_arg\u001B[38;5;241m.\u001B[39m_detach()\n\nFile \u001B[0;32m/databricks/spark/python/pyspark/errors/exceptions.py:234\u001B[0m, in \u001B[0;36mcapture_sql_exception.<locals>.deco\u001B[0;34m(*a, **kw)\u001B[0m\n\u001B[1;32m    230\u001B[0m converted \u001B[38;5;241m=\u001B[39m convert_exception(e\u001B[38;5;241m.\u001B[39mjava_exception)\n\u001B[1;32m    231\u001B[0m \u001B[38;5;28;01mif\u001B[39;00m \u001B[38;5;129;01mnot\u001B[39;00m \u001B[38;5;28misinstance\u001B[39m(converted, UnknownException):\n\u001B[1;32m    232\u001B[0m     \u001B[38;5;66;03m# Hide where the exception came from that shows a non-Pythonic\u001B[39;00m\n\u001B[1;32m    233\u001B[0m     \u001B[38;5;66;03m# JVM exception message.\u001B[39;00m\n\u001B[0;32m--> 234\u001B[0m     \u001B[38;5;28;01mraise\u001B[39;00m converted \u001B[38;5;28;01mfrom\u001B[39;00m \u001B[38;5;28mNone\u001B[39m\n\u001B[1;32m    235\u001B[0m \u001B[38;5;28;01melse\u001B[39;00m:\n\u001B[1;32m    236\u001B[0m     \u001B[38;5;28;01mraise\u001B[39;00m\n\n\u001B[0;31mAnalysisException\u001B[0m: [TABLE_OR_VIEW_ALREADY_EXISTS] Cannot create table or view `default`.`Employee` because it already exists.\nChoose a different name, drop or replace the existing object, add the IF NOT EXISTS clause to tolerate pre-existing objects, or add the OR REFRESH clause to refresh the existing streaming table.",
       "errorSummary": "<span class='ansi-red-fg'>AnalysisException</span>: [TABLE_OR_VIEW_ALREADY_EXISTS] Cannot create table or view `default`.`Employee` because it already exists.\nChoose a different name, drop or replace the existing object, add the IF NOT EXISTS clause to tolerate pre-existing objects, or add the OR REFRESH clause to refresh the existing streaming table.",
       "errorTraceType": "ansi",
       "metadata": {},
       "type": "ipynbError"
      }
     },
     "output_type": "display_data"
    }
   ],
   "source": [
    "%sql\n",
    "-- Check the current schema\n",
    "SELECT current_database();\n",
    "\n",
    "  CREATE TABLE Employee (\n",
    "    EmployeeID INT,\n",
    "    Name VARCHAR(50),\n",
    "    Department VARCHAR(50),\n",
    "    Salary INT,\n",
    "    JoiningDate DATE\n",
    ");\n",
    "\n",
    "INSERT INTO Employee (EmployeeID, Name, Department, Salary, JoiningDate) VALUES\n",
    "(1, 'Alice', 'Sales', 70000, '2021-03-15'),\n",
    "(2, 'Bob', 'Sales', 68000, '2022-04-20'),\n",
    "(3, 'Charlie', 'Marketing', 72000, '2020-07-30'),\n",
    "(4, 'David', 'Marketing', 75000, '2021-11-25'),\n",
    "(5, 'Eve', 'Sales', 69000, '2020-02-10'),\n",
    "(6, 'Frank', 'HR', 66000, '2019-05-15'),\n",
    "(7, 'Grace', 'HR', 64000, '2021-06-10'),\n",
    "(8, 'Hannah', 'Finance', 73000, '2022-08-19'),\n",
    "(9, 'Ian', 'Finance', 71000, '2020-03-05'),\n",
    "(10, 'Jack', 'Sales', 78000, '2023-01-10'),\n",
    "(11, 'Kara', 'Marketing', 80000, '2022-05-05'),\n",
    "(12, 'Liam', 'Finance', 72000, '2021-01-30');\n",
    "\n"
   ]
  },
  {
   "cell_type": "code",
   "execution_count": 0,
   "metadata": {
    "application/vnd.databricks.v1+cell": {
     "cellMetadata": {
      "byteLimit": 2048000,
      "implicitDf": true,
      "rowLimit": 10000
     },
     "inputWidgets": {},
     "nuid": "8e95a7cf-2622-4566-b6bd-de38f9559cfd",
     "showTitle": false,
     "tableResultSettingsMap": {},
     "title": ""
    }
   },
   "outputs": [
    {
     "output_type": "display_data",
     "data": {
      "text/html": [
       "<style scoped>\n",
       "  .table-result-container {\n",
       "    max-height: 300px;\n",
       "    overflow: auto;\n",
       "  }\n",
       "  table, th, td {\n",
       "    border: 1px solid black;\n",
       "    border-collapse: collapse;\n",
       "  }\n",
       "  th, td {\n",
       "    padding: 5px;\n",
       "  }\n",
       "  th {\n",
       "    text-align: left;\n",
       "  }\n",
       "</style><div class='table-result-container'><table class='table-result'><thead style='background-color: white'><tr><th>Department</th><th>TotalEmployees</th><th>AverageSalary</th></tr></thead><tbody><tr><td>Sales</td><td>4</td><td>71250.0</td></tr><tr><td>HR</td><td>2</td><td>65000.0</td></tr><tr><td>Finance</td><td>3</td><td>72000.0</td></tr><tr><td>Marketing</td><td>3</td><td>75666.66666666667</td></tr></tbody></table></div>"
      ]
     },
     "metadata": {
      "application/vnd.databricks.v1+output": {
       "addedWidgets": {},
       "aggData": [],
       "aggError": "",
       "aggOverflow": false,
       "aggSchema": [],
       "aggSeriesLimitReached": false,
       "aggType": "",
       "arguments": {},
       "columnCustomDisplayInfos": {},
       "data": [
        [
         "Sales",
         4,
         71250.0
        ],
        [
         "HR",
         2,
         65000.0
        ],
        [
         "Finance",
         3,
         72000.0
        ],
        [
         "Marketing",
         3,
         75666.66666666667
        ]
       ],
       "datasetInfos": [],
       "dbfsResultPath": null,
       "isJsonSchema": true,
       "metadata": {},
       "overflow": false,
       "plotOptions": {
        "customPlotOptions": {},
        "displayType": "table",
        "pivotAggregation": null,
        "pivotColumns": null,
        "xColumns": null,
        "yColumns": null
       },
       "removedWidgets": [],
       "schema": [
        {
         "metadata": "{\"__CHAR_VARCHAR_TYPE_STRING\":\"varchar(50)\"}",
         "name": "Department",
         "type": "\"string\""
        },
        {
         "metadata": "{}",
         "name": "TotalEmployees",
         "type": "\"long\""
        },
        {
         "metadata": "{}",
         "name": "AverageSalary",
         "type": "\"double\""
        }
       ],
       "type": "table"
      }
     },
     "output_type": "display_data"
    }
   ],
   "source": [
    "%sql\n",
    "SELECT \n",
    "    Department,\n",
    "    COUNT(EmployeeID) AS TotalEmployees,\n",
    "    AVG(Salary) AS AverageSalary\n",
    "FROM Employee\n",
    "GROUP BY Department;\n",
    "\n"
   ]
  },
  {
   "cell_type": "code",
   "execution_count": 0,
   "metadata": {
    "application/vnd.databricks.v1+cell": {
     "cellMetadata": {
      "byteLimit": 2048000,
      "implicitDf": true,
      "rowLimit": 10000
     },
     "inputWidgets": {},
     "nuid": "4f26b549-2219-4a6e-aecc-0b6732b967fe",
     "showTitle": false,
     "tableResultSettingsMap": {},
     "title": ""
    }
   },
   "outputs": [
    {
     "output_type": "display_data",
     "data": {
      "text/html": [
       "<style scoped>\n",
       "  .table-result-container {\n",
       "    max-height: 300px;\n",
       "    overflow: auto;\n",
       "  }\n",
       "  table, th, td {\n",
       "    border: 1px solid black;\n",
       "    border-collapse: collapse;\n",
       "  }\n",
       "  th, td {\n",
       "    padding: 5px;\n",
       "  }\n",
       "  th {\n",
       "    text-align: left;\n",
       "  }\n",
       "</style><div class='table-result-container'><table class='table-result'><thead style='background-color: white'><tr><th>EmployeeID</th><th>Name</th><th>Department</th><th>Salary</th><th>SalaryRank</th></tr></thead><tbody><tr><td>8</td><td>Hannah</td><td>Finance</td><td>73000</td><td>1</td></tr><tr><td>12</td><td>Liam</td><td>Finance</td><td>72000</td><td>2</td></tr><tr><td>9</td><td>Ian</td><td>Finance</td><td>71000</td><td>3</td></tr><tr><td>6</td><td>Frank</td><td>HR</td><td>66000</td><td>1</td></tr><tr><td>7</td><td>Grace</td><td>HR</td><td>64000</td><td>2</td></tr><tr><td>11</td><td>Kara</td><td>Marketing</td><td>80000</td><td>1</td></tr><tr><td>4</td><td>David</td><td>Marketing</td><td>75000</td><td>2</td></tr><tr><td>3</td><td>Charlie</td><td>Marketing</td><td>72000</td><td>3</td></tr><tr><td>10</td><td>Jack</td><td>Sales</td><td>78000</td><td>1</td></tr><tr><td>1</td><td>Alice</td><td>Sales</td><td>70000</td><td>2</td></tr><tr><td>5</td><td>Eve</td><td>Sales</td><td>69000</td><td>3</td></tr><tr><td>2</td><td>Bob</td><td>Sales</td><td>68000</td><td>4</td></tr></tbody></table></div>"
      ]
     },
     "metadata": {
      "application/vnd.databricks.v1+output": {
       "addedWidgets": {},
       "aggData": [],
       "aggError": "",
       "aggOverflow": false,
       "aggSchema": [],
       "aggSeriesLimitReached": false,
       "aggType": "",
       "arguments": {},
       "columnCustomDisplayInfos": {},
       "data": [
        [
         8,
         "Hannah",
         "Finance",
         73000,
         1
        ],
        [
         12,
         "Liam",
         "Finance",
         72000,
         2
        ],
        [
         9,
         "Ian",
         "Finance",
         71000,
         3
        ],
        [
         6,
         "Frank",
         "HR",
         66000,
         1
        ],
        [
         7,
         "Grace",
         "HR",
         64000,
         2
        ],
        [
         11,
         "Kara",
         "Marketing",
         80000,
         1
        ],
        [
         4,
         "David",
         "Marketing",
         75000,
         2
        ],
        [
         3,
         "Charlie",
         "Marketing",
         72000,
         3
        ],
        [
         10,
         "Jack",
         "Sales",
         78000,
         1
        ],
        [
         1,
         "Alice",
         "Sales",
         70000,
         2
        ],
        [
         5,
         "Eve",
         "Sales",
         69000,
         3
        ],
        [
         2,
         "Bob",
         "Sales",
         68000,
         4
        ]
       ],
       "datasetInfos": [],
       "dbfsResultPath": null,
       "isJsonSchema": true,
       "metadata": {},
       "overflow": false,
       "plotOptions": {
        "customPlotOptions": {},
        "displayType": "table",
        "pivotAggregation": null,
        "pivotColumns": null,
        "xColumns": null,
        "yColumns": null
       },
       "removedWidgets": [],
       "schema": [
        {
         "metadata": "{}",
         "name": "EmployeeID",
         "type": "\"integer\""
        },
        {
         "metadata": "{\"__CHAR_VARCHAR_TYPE_STRING\":\"varchar(50)\"}",
         "name": "Name",
         "type": "\"string\""
        },
        {
         "metadata": "{\"__CHAR_VARCHAR_TYPE_STRING\":\"varchar(50)\"}",
         "name": "Department",
         "type": "\"string\""
        },
        {
         "metadata": "{}",
         "name": "Salary",
         "type": "\"integer\""
        },
        {
         "metadata": "{}",
         "name": "SalaryRank",
         "type": "\"integer\""
        }
       ],
       "type": "table"
      }
     },
     "output_type": "display_data"
    }
   ],
   "source": [
    "%sql\n",
    "SELECT \n",
    "    EmployeeID,\n",
    "    Name,\n",
    "    Department,\n",
    "    Salary,\n",
    "    RANK() OVER (PARTITION BY Department ORDER BY Salary DESC) AS SalaryRank\n",
    "FROM Employee;\n"
   ]
  },
  {
   "cell_type": "code",
   "execution_count": 0,
   "metadata": {
    "application/vnd.databricks.v1+cell": {
     "cellMetadata": {
      "byteLimit": 2048000,
      "implicitDf": true,
      "rowLimit": 10000
     },
     "inputWidgets": {},
     "nuid": "200a6320-bd16-4e83-8448-821c31c7cfc8",
     "showTitle": false,
     "tableResultSettingsMap": {},
     "title": ""
    }
   },
   "outputs": [
    {
     "output_type": "display_data",
     "data": {
      "text/html": [
       "<style scoped>\n",
       "  .table-result-container {\n",
       "    max-height: 300px;\n",
       "    overflow: auto;\n",
       "  }\n",
       "  table, th, td {\n",
       "    border: 1px solid black;\n",
       "    border-collapse: collapse;\n",
       "  }\n",
       "  th, td {\n",
       "    padding: 5px;\n",
       "  }\n",
       "  th {\n",
       "    text-align: left;\n",
       "  }\n",
       "</style><div class='table-result-container'><table class='table-result'><thead style='background-color: white'><tr><th>EmployeeID</th><th>Name</th><th>Department</th><th>Salary</th></tr></thead><tbody><tr><td>8</td><td>Hannah</td><td>Finance</td><td>73000</td></tr><tr><td>6</td><td>Frank</td><td>HR</td><td>66000</td></tr><tr><td>11</td><td>Kara</td><td>Marketing</td><td>80000</td></tr><tr><td>10</td><td>Jack</td><td>Sales</td><td>78000</td></tr></tbody></table></div>"
      ]
     },
     "metadata": {
      "application/vnd.databricks.v1+output": {
       "addedWidgets": {},
       "aggData": [],
       "aggError": "",
       "aggOverflow": false,
       "aggSchema": [],
       "aggSeriesLimitReached": false,
       "aggType": "",
       "arguments": {},
       "columnCustomDisplayInfos": {},
       "data": [
        [
         8,
         "Hannah",
         "Finance",
         73000
        ],
        [
         6,
         "Frank",
         "HR",
         66000
        ],
        [
         11,
         "Kara",
         "Marketing",
         80000
        ],
        [
         10,
         "Jack",
         "Sales",
         78000
        ]
       ],
       "datasetInfos": [],
       "dbfsResultPath": null,
       "isJsonSchema": true,
       "metadata": {},
       "overflow": false,
       "plotOptions": {
        "customPlotOptions": {},
        "displayType": "table",
        "pivotAggregation": null,
        "pivotColumns": null,
        "xColumns": null,
        "yColumns": null
       },
       "removedWidgets": [],
       "schema": [
        {
         "metadata": "{}",
         "name": "EmployeeID",
         "type": "\"integer\""
        },
        {
         "metadata": "{\"__CHAR_VARCHAR_TYPE_STRING\":\"varchar(50)\"}",
         "name": "Name",
         "type": "\"string\""
        },
        {
         "metadata": "{\"__CHAR_VARCHAR_TYPE_STRING\":\"varchar(50)\"}",
         "name": "Department",
         "type": "\"string\""
        },
        {
         "metadata": "{}",
         "name": "Salary",
         "type": "\"integer\""
        }
       ],
       "type": "table"
      }
     },
     "output_type": "display_data"
    }
   ],
   "source": [
    "%sql\n",
    "WITH DeptSalaryRank AS (\n",
    "    SELECT \n",
    "        EmployeeID,\n",
    "        Name,\n",
    "        Department,\n",
    "        Salary,\n",
    "        RANK() OVER (PARTITION BY Department ORDER BY Salary DESC) AS SalaryRank\n",
    "    FROM Employee\n",
    ")\n",
    "SELECT \n",
    "    EmployeeID,\n",
    "    Name,\n",
    "    Department,\n",
    "    Salary\n",
    "FROM DeptSalaryRank\n",
    "WHERE SalaryRank = 1;\n"
   ]
  },
  {
   "cell_type": "code",
   "execution_count": 0,
   "metadata": {
    "application/vnd.databricks.v1+cell": {
     "cellMetadata": {
      "byteLimit": 2048000,
      "implicitDf": true,
      "rowLimit": 10000
     },
     "inputWidgets": {},
     "nuid": "d628037d-e1b4-43c4-b35a-07c048a0da9d",
     "showTitle": false,
     "tableResultSettingsMap": {},
     "title": ""
    }
   },
   "outputs": [
    {
     "output_type": "display_data",
     "data": {
      "text/html": [
       "<style scoped>\n",
       "  .table-result-container {\n",
       "    max-height: 300px;\n",
       "    overflow: auto;\n",
       "  }\n",
       "  table, th, td {\n",
       "    border: 1px solid black;\n",
       "    border-collapse: collapse;\n",
       "  }\n",
       "  th, td {\n",
       "    padding: 5px;\n",
       "  }\n",
       "  th {\n",
       "    text-align: left;\n",
       "  }\n",
       "</style><div class='table-result-container'><table class='table-result'><thead style='background-color: white'><tr><th>EmployeeID</th><th>Name</th><th>Department</th><th>Salary</th><th>CumulativeSalary</th></tr></thead><tbody><tr><td>8</td><td>Hannah</td><td>Finance</td><td>73000</td><td>73000</td></tr><tr><td>12</td><td>Liam</td><td>Finance</td><td>72000</td><td>145000</td></tr><tr><td>9</td><td>Ian</td><td>Finance</td><td>71000</td><td>216000</td></tr><tr><td>6</td><td>Frank</td><td>HR</td><td>66000</td><td>66000</td></tr><tr><td>7</td><td>Grace</td><td>HR</td><td>64000</td><td>130000</td></tr><tr><td>11</td><td>Kara</td><td>Marketing</td><td>80000</td><td>80000</td></tr><tr><td>4</td><td>David</td><td>Marketing</td><td>75000</td><td>155000</td></tr><tr><td>3</td><td>Charlie</td><td>Marketing</td><td>72000</td><td>227000</td></tr><tr><td>10</td><td>Jack</td><td>Sales</td><td>78000</td><td>78000</td></tr><tr><td>1</td><td>Alice</td><td>Sales</td><td>70000</td><td>148000</td></tr><tr><td>5</td><td>Eve</td><td>Sales</td><td>69000</td><td>217000</td></tr><tr><td>2</td><td>Bob</td><td>Sales</td><td>68000</td><td>285000</td></tr></tbody></table></div>"
      ]
     },
     "metadata": {
      "application/vnd.databricks.v1+output": {
       "addedWidgets": {},
       "aggData": [],
       "aggError": "",
       "aggOverflow": false,
       "aggSchema": [],
       "aggSeriesLimitReached": false,
       "aggType": "",
       "arguments": {},
       "columnCustomDisplayInfos": {},
       "data": [
        [
         8,
         "Hannah",
         "Finance",
         73000,
         73000
        ],
        [
         12,
         "Liam",
         "Finance",
         72000,
         145000
        ],
        [
         9,
         "Ian",
         "Finance",
         71000,
         216000
        ],
        [
         6,
         "Frank",
         "HR",
         66000,
         66000
        ],
        [
         7,
         "Grace",
         "HR",
         64000,
         130000
        ],
        [
         11,
         "Kara",
         "Marketing",
         80000,
         80000
        ],
        [
         4,
         "David",
         "Marketing",
         75000,
         155000
        ],
        [
         3,
         "Charlie",
         "Marketing",
         72000,
         227000
        ],
        [
         10,
         "Jack",
         "Sales",
         78000,
         78000
        ],
        [
         1,
         "Alice",
         "Sales",
         70000,
         148000
        ],
        [
         5,
         "Eve",
         "Sales",
         69000,
         217000
        ],
        [
         2,
         "Bob",
         "Sales",
         68000,
         285000
        ]
       ],
       "datasetInfos": [],
       "dbfsResultPath": null,
       "isJsonSchema": true,
       "metadata": {},
       "overflow": false,
       "plotOptions": {
        "customPlotOptions": {},
        "displayType": "table",
        "pivotAggregation": null,
        "pivotColumns": null,
        "xColumns": null,
        "yColumns": null
       },
       "removedWidgets": [],
       "schema": [
        {
         "metadata": "{}",
         "name": "EmployeeID",
         "type": "\"integer\""
        },
        {
         "metadata": "{\"__CHAR_VARCHAR_TYPE_STRING\":\"varchar(50)\"}",
         "name": "Name",
         "type": "\"string\""
        },
        {
         "metadata": "{\"__CHAR_VARCHAR_TYPE_STRING\":\"varchar(50)\"}",
         "name": "Department",
         "type": "\"string\""
        },
        {
         "metadata": "{}",
         "name": "Salary",
         "type": "\"integer\""
        },
        {
         "metadata": "{}",
         "name": "CumulativeSalary",
         "type": "\"long\""
        }
       ],
       "type": "table"
      }
     },
     "output_type": "display_data"
    }
   ],
   "source": [
    "%sql\n",
    "SELECT \n",
    "    EmployeeID,\n",
    "    Name,\n",
    "    Department,\n",
    "    Salary,\n",
    "    SUM(Salary) OVER (PARTITION BY Department ORDER BY Salary DESC ROWS BETWEEN UNBOUNDED PRECEDING AND CURRENT ROW) AS CumulativeSalary\n",
    "FROM Employee;\n"
   ]
  },
  {
   "cell_type": "code",
   "execution_count": 0,
   "metadata": {
    "application/vnd.databricks.v1+cell": {
     "cellMetadata": {
      "byteLimit": 2048000,
      "implicitDf": true,
      "rowLimit": 10000
     },
     "inputWidgets": {},
     "nuid": "491861ab-c9e8-4332-8231-8fa4a579a192",
     "showTitle": false,
     "tableResultSettingsMap": {},
     "title": ""
    }
   },
   "outputs": [
    {
     "output_type": "display_data",
     "data": {
      "text/html": [
       "<style scoped>\n",
       "  .table-result-container {\n",
       "    max-height: 300px;\n",
       "    overflow: auto;\n",
       "  }\n",
       "  table, th, td {\n",
       "    border: 1px solid black;\n",
       "    border-collapse: collapse;\n",
       "  }\n",
       "  th, td {\n",
       "    padding: 5px;\n",
       "  }\n",
       "  th {\n",
       "    text-align: left;\n",
       "  }\n",
       "</style><div class='table-result-container'><table class='table-result'><thead style='background-color: white'><tr><th>EmployeeID</th><th>Name</th><th>Department</th><th>Salary</th></tr></thead><tbody><tr><td>6</td><td>Frank</td><td>HR</td><td>66000</td></tr><tr><td>8</td><td>Hannah</td><td>Finance</td><td>73000</td></tr><tr><td>10</td><td>Jack</td><td>Sales</td><td>78000</td></tr><tr><td>11</td><td>Kara</td><td>Marketing</td><td>80000</td></tr></tbody></table></div>"
      ]
     },
     "metadata": {
      "application/vnd.databricks.v1+output": {
       "addedWidgets": {},
       "aggData": [],
       "aggError": "",
       "aggOverflow": false,
       "aggSchema": [],
       "aggSeriesLimitReached": false,
       "aggType": "",
       "arguments": {},
       "columnCustomDisplayInfos": {},
       "data": [
        [
         6,
         "Frank",
         "HR",
         66000
        ],
        [
         8,
         "Hannah",
         "Finance",
         73000
        ],
        [
         10,
         "Jack",
         "Sales",
         78000
        ],
        [
         11,
         "Kara",
         "Marketing",
         80000
        ]
       ],
       "datasetInfos": [],
       "dbfsResultPath": null,
       "isJsonSchema": true,
       "metadata": {},
       "overflow": false,
       "plotOptions": {
        "customPlotOptions": {},
        "displayType": "table",
        "pivotAggregation": null,
        "pivotColumns": null,
        "xColumns": null,
        "yColumns": null
       },
       "removedWidgets": [],
       "schema": [
        {
         "metadata": "{}",
         "name": "EmployeeID",
         "type": "\"integer\""
        },
        {
         "metadata": "{\"__CHAR_VARCHAR_TYPE_STRING\":\"varchar(50)\"}",
         "name": "Name",
         "type": "\"string\""
        },
        {
         "metadata": "{\"__CHAR_VARCHAR_TYPE_STRING\":\"varchar(50)\"}",
         "name": "Department",
         "type": "\"string\""
        },
        {
         "metadata": "{}",
         "name": "Salary",
         "type": "\"integer\""
        }
       ],
       "type": "table"
      }
     },
     "output_type": "display_data"
    }
   ],
   "source": [
    "%sql\n",
    "WITH DeptAvgSalary AS (\n",
    "    SELECT \n",
    "        Department,\n",
    "        AVG(Salary) AS AvgSalary\n",
    "    FROM Employee\n",
    "    GROUP BY Department\n",
    ")\n",
    "SELECT \n",
    "    e.EmployeeID,\n",
    "    e.Name,\n",
    "    e.Department,\n",
    "    e.Salary\n",
    "FROM Employee e\n",
    "JOIN DeptAvgSalary d ON e.Department = d.Department\n",
    "WHERE e.Salary > d.AvgSalary;\n"
   ]
  },
  {
   "cell_type": "code",
   "execution_count": 0,
   "metadata": {
    "application/vnd.databricks.v1+cell": {
     "cellMetadata": {
      "byteLimit": 2048000,
      "implicitDf": true,
      "rowLimit": 10000
     },
     "inputWidgets": {},
     "nuid": "94921cbe-9a1f-40eb-a0c9-753c1c9d2ccc",
     "showTitle": false,
     "tableResultSettingsMap": {},
     "title": ""
    }
   },
   "outputs": [
    {
     "output_type": "display_data",
     "data": {
      "text/html": [
       "<style scoped>\n",
       "  .table-result-container {\n",
       "    max-height: 300px;\n",
       "    overflow: auto;\n",
       "  }\n",
       "  table, th, td {\n",
       "    border: 1px solid black;\n",
       "    border-collapse: collapse;\n",
       "  }\n",
       "  th, td {\n",
       "    padding: 5px;\n",
       "  }\n",
       "  th {\n",
       "    text-align: left;\n",
       "  }\n",
       "</style><div class='table-result-container'><table class='table-result'><thead style='background-color: white'><tr><th>EmployeeID</th><th>Name</th><th>Department</th><th>Salary</th><th>SalaryDifference</th></tr></thead><tbody><tr><td>1</td><td>Alice</td><td>Sales</td><td>70000</td><td>8000</td></tr><tr><td>2</td><td>Bob</td><td>Sales</td><td>68000</td><td>10000</td></tr><tr><td>3</td><td>Charlie</td><td>Marketing</td><td>72000</td><td>8000</td></tr><tr><td>4</td><td>David</td><td>Marketing</td><td>75000</td><td>5000</td></tr><tr><td>5</td><td>Eve</td><td>Sales</td><td>69000</td><td>9000</td></tr><tr><td>6</td><td>Frank</td><td>HR</td><td>66000</td><td>0</td></tr><tr><td>7</td><td>Grace</td><td>HR</td><td>64000</td><td>2000</td></tr><tr><td>8</td><td>Hannah</td><td>Finance</td><td>73000</td><td>0</td></tr><tr><td>9</td><td>Ian</td><td>Finance</td><td>71000</td><td>2000</td></tr><tr><td>10</td><td>Jack</td><td>Sales</td><td>78000</td><td>0</td></tr><tr><td>11</td><td>Kara</td><td>Marketing</td><td>80000</td><td>0</td></tr><tr><td>12</td><td>Liam</td><td>Finance</td><td>72000</td><td>1000</td></tr></tbody></table></div>"
      ]
     },
     "metadata": {
      "application/vnd.databricks.v1+output": {
       "addedWidgets": {},
       "aggData": [],
       "aggError": "",
       "aggOverflow": false,
       "aggSchema": [],
       "aggSeriesLimitReached": false,
       "aggType": "",
       "arguments": {},
       "columnCustomDisplayInfos": {},
       "data": [
        [
         1,
         "Alice",
         "Sales",
         70000,
         8000
        ],
        [
         2,
         "Bob",
         "Sales",
         68000,
         10000
        ],
        [
         3,
         "Charlie",
         "Marketing",
         72000,
         8000
        ],
        [
         4,
         "David",
         "Marketing",
         75000,
         5000
        ],
        [
         5,
         "Eve",
         "Sales",
         69000,
         9000
        ],
        [
         6,
         "Frank",
         "HR",
         66000,
         0
        ],
        [
         7,
         "Grace",
         "HR",
         64000,
         2000
        ],
        [
         8,
         "Hannah",
         "Finance",
         73000,
         0
        ],
        [
         9,
         "Ian",
         "Finance",
         71000,
         2000
        ],
        [
         10,
         "Jack",
         "Sales",
         78000,
         0
        ],
        [
         11,
         "Kara",
         "Marketing",
         80000,
         0
        ],
        [
         12,
         "Liam",
         "Finance",
         72000,
         1000
        ]
       ],
       "datasetInfos": [],
       "dbfsResultPath": null,
       "isJsonSchema": true,
       "metadata": {},
       "overflow": false,
       "plotOptions": {
        "customPlotOptions": {},
        "displayType": "table",
        "pivotAggregation": null,
        "pivotColumns": null,
        "xColumns": null,
        "yColumns": null
       },
       "removedWidgets": [],
       "schema": [
        {
         "metadata": "{}",
         "name": "EmployeeID",
         "type": "\"integer\""
        },
        {
         "metadata": "{\"__CHAR_VARCHAR_TYPE_STRING\":\"varchar(50)\"}",
         "name": "Name",
         "type": "\"string\""
        },
        {
         "metadata": "{\"__CHAR_VARCHAR_TYPE_STRING\":\"varchar(50)\"}",
         "name": "Department",
         "type": "\"string\""
        },
        {
         "metadata": "{}",
         "name": "Salary",
         "type": "\"integer\""
        },
        {
         "metadata": "{}",
         "name": "SalaryDifference",
         "type": "\"integer\""
        }
       ],
       "type": "table"
      }
     },
     "output_type": "display_data"
    }
   ],
   "source": [
    "%sql\n",
    "WITH DeptMaxSalary AS (\n",
    "    SELECT \n",
    "        Department,\n",
    "        MAX(Salary) AS MaxSalary\n",
    "    FROM Employee\n",
    "    GROUP BY Department\n",
    ")\n",
    "SELECT \n",
    "    e.EmployeeID,\n",
    "    e.Name,\n",
    "    e.Department,\n",
    "    e.Salary,\n",
    "    (dm.MaxSalary - e.Salary) AS SalaryDifference\n",
    "FROM Employee e\n",
    "JOIN DeptMaxSalary dm ON e.Department = dm.Department;\n"
   ]
  },
  {
   "cell_type": "code",
   "execution_count": 0,
   "metadata": {
    "application/vnd.databricks.v1+cell": {
     "cellMetadata": {
      "byteLimit": 2048000,
      "implicitDf": true,
      "rowLimit": 10000
     },
     "inputWidgets": {},
     "nuid": "884017b0-fb1e-47c1-b259-47a729d1b567",
     "showTitle": false,
     "tableResultSettingsMap": {},
     "title": ""
    }
   },
   "outputs": [
    {
     "output_type": "display_data",
     "data": {
      "text/html": [
       "<style scoped>\n",
       "  .table-result-container {\n",
       "    max-height: 300px;\n",
       "    overflow: auto;\n",
       "  }\n",
       "  table, th, td {\n",
       "    border: 1px solid black;\n",
       "    border-collapse: collapse;\n",
       "  }\n",
       "  th, td {\n",
       "    padding: 5px;\n",
       "  }\n",
       "  th {\n",
       "    text-align: left;\n",
       "  }\n",
       "</style><div class='table-result-container'><table class='table-result'><thead style='background-color: white'><tr><th>HireYear</th><th>EmployeesHired</th></tr></thead><tbody><tr><td>2019</td><td>1</td></tr><tr><td>2020</td><td>3</td></tr><tr><td>2021</td><td>4</td></tr><tr><td>2022</td><td>3</td></tr><tr><td>2023</td><td>1</td></tr></tbody></table></div>"
      ]
     },
     "metadata": {
      "application/vnd.databricks.v1+output": {
       "addedWidgets": {},
       "aggData": [],
       "aggError": "",
       "aggOverflow": false,
       "aggSchema": [],
       "aggSeriesLimitReached": false,
       "aggType": "",
       "arguments": {},
       "columnCustomDisplayInfos": {},
       "data": [
        [
         2019,
         1
        ],
        [
         2020,
         3
        ],
        [
         2021,
         4
        ],
        [
         2022,
         3
        ],
        [
         2023,
         1
        ]
       ],
       "datasetInfos": [],
       "dbfsResultPath": null,
       "isJsonSchema": true,
       "metadata": {},
       "overflow": false,
       "plotOptions": {
        "customPlotOptions": {},
        "displayType": "table",
        "pivotAggregation": null,
        "pivotColumns": null,
        "xColumns": null,
        "yColumns": null
       },
       "removedWidgets": [],
       "schema": [
        {
         "metadata": "{}",
         "name": "HireYear",
         "type": "\"integer\""
        },
        {
         "metadata": "{}",
         "name": "EmployeesHired",
         "type": "\"long\""
        }
       ],
       "type": "table"
      }
     },
     "output_type": "display_data"
    }
   ],
   "source": [
    "%sql\n",
    "SELECT \n",
    "    YEAR(JoiningDate) AS HireYear,\n",
    "    COUNT(EmployeeID) AS EmployeesHired\n",
    "FROM Employee\n",
    "GROUP BY YEAR(JoiningDate)\n",
    "ORDER BY HireYear;\n"
   ]
  },
  {
   "cell_type": "code",
   "execution_count": 0,
   "metadata": {
    "application/vnd.databricks.v1+cell": {
     "cellMetadata": {
      "byteLimit": 2048000,
      "implicitDf": true,
      "rowLimit": 10000
     },
     "inputWidgets": {},
     "nuid": "cd11aa53-3bbe-4a5a-b66a-50c4125e8755",
     "showTitle": false,
     "tableResultSettingsMap": {},
     "title": ""
    }
   },
   "outputs": [
    {
     "output_type": "display_data",
     "data": {
      "text/html": [
       "<style scoped>\n",
       "  .table-result-container {\n",
       "    max-height: 300px;\n",
       "    overflow: auto;\n",
       "  }\n",
       "  table, th, td {\n",
       "    border: 1px solid black;\n",
       "    border-collapse: collapse;\n",
       "  }\n",
       "  th, td {\n",
       "    padding: 5px;\n",
       "  }\n",
       "  th {\n",
       "    text-align: left;\n",
       "  }\n",
       "</style><div class='table-result-container'><table class='table-result'><thead style='background-color: white'><tr><th>EmployeeID</th><th>Name</th><th>Department</th><th>Salary</th></tr></thead><tbody><tr><td>8</td><td>Hannah</td><td>Finance</td><td>73000</td></tr><tr><td>12</td><td>Liam</td><td>Finance</td><td>72000</td></tr><tr><td>6</td><td>Frank</td><td>HR</td><td>66000</td></tr><tr><td>7</td><td>Grace</td><td>HR</td><td>64000</td></tr><tr><td>11</td><td>Kara</td><td>Marketing</td><td>80000</td></tr><tr><td>4</td><td>David</td><td>Marketing</td><td>75000</td></tr><tr><td>10</td><td>Jack</td><td>Sales</td><td>78000</td></tr><tr><td>1</td><td>Alice</td><td>Sales</td><td>70000</td></tr></tbody></table></div>"
      ]
     },
     "metadata": {
      "application/vnd.databricks.v1+output": {
       "addedWidgets": {},
       "aggData": [],
       "aggError": "",
       "aggOverflow": false,
       "aggSchema": [],
       "aggSeriesLimitReached": false,
       "aggType": "",
       "arguments": {},
       "columnCustomDisplayInfos": {},
       "data": [
        [
         8,
         "Hannah",
         "Finance",
         73000
        ],
        [
         12,
         "Liam",
         "Finance",
         72000
        ],
        [
         6,
         "Frank",
         "HR",
         66000
        ],
        [
         7,
         "Grace",
         "HR",
         64000
        ],
        [
         11,
         "Kara",
         "Marketing",
         80000
        ],
        [
         4,
         "David",
         "Marketing",
         75000
        ],
        [
         10,
         "Jack",
         "Sales",
         78000
        ],
        [
         1,
         "Alice",
         "Sales",
         70000
        ]
       ],
       "datasetInfos": [],
       "dbfsResultPath": null,
       "isJsonSchema": true,
       "metadata": {},
       "overflow": false,
       "plotOptions": {
        "customPlotOptions": {},
        "displayType": "table",
        "pivotAggregation": null,
        "pivotColumns": null,
        "xColumns": null,
        "yColumns": null
       },
       "removedWidgets": [],
       "schema": [
        {
         "metadata": "{}",
         "name": "EmployeeID",
         "type": "\"integer\""
        },
        {
         "metadata": "{\"__CHAR_VARCHAR_TYPE_STRING\":\"varchar(50)\"}",
         "name": "Name",
         "type": "\"string\""
        },
        {
         "metadata": "{\"__CHAR_VARCHAR_TYPE_STRING\":\"varchar(50)\"}",
         "name": "Department",
         "type": "\"string\""
        },
        {
         "metadata": "{}",
         "name": "Salary",
         "type": "\"integer\""
        }
       ],
       "type": "table"
      }
     },
     "output_type": "display_data"
    }
   ],
   "source": [
    "%sql\n",
    "WITH DeptSalaryRank AS (\n",
    "    SELECT \n",
    "        EmployeeID,\n",
    "        Name,\n",
    "        Department,\n",
    "        Salary,\n",
    "        ROW_NUMBER() OVER (PARTITION BY Department ORDER BY Salary DESC) AS SalaryRank\n",
    "    FROM Employee\n",
    ")\n",
    "SELECT \n",
    "    EmployeeID,\n",
    "    Name,\n",
    "    Department,\n",
    "    Salary\n",
    "FROM DeptSalaryRank\n",
    "WHERE SalaryRank <= 2;\n"
   ]
  },
  {
   "cell_type": "code",
   "execution_count": 0,
   "metadata": {
    "application/vnd.databricks.v1+cell": {
     "cellMetadata": {
      "byteLimit": 2048000,
      "implicitDf": true,
      "rowLimit": 10000
     },
     "inputWidgets": {},
     "nuid": "1b216256-11dc-4f66-8a63-8978d8e625ae",
     "showTitle": false,
     "tableResultSettingsMap": {},
     "title": ""
    }
   },
   "outputs": [
    {
     "output_type": "display_data",
     "data": {
      "text/html": [
       "<style scoped>\n",
       "  .table-result-container {\n",
       "    max-height: 300px;\n",
       "    overflow: auto;\n",
       "  }\n",
       "  table, th, td {\n",
       "    border: 1px solid black;\n",
       "    border-collapse: collapse;\n",
       "  }\n",
       "  th, td {\n",
       "    padding: 5px;\n",
       "  }\n",
       "  th {\n",
       "    text-align: left;\n",
       "  }\n",
       "</style><div class='table-result-container'><table class='table-result'><thead style='background-color: white'><tr><th>EmployeeID</th><th>Name</th><th>Department</th><th>Salary</th><th>RunningAvgSalary</th></tr></thead><tbody><tr><td>8</td><td>Hannah</td><td>Finance</td><td>73000</td><td>73000.0</td></tr><tr><td>12</td><td>Liam</td><td>Finance</td><td>72000</td><td>72500.0</td></tr><tr><td>9</td><td>Ian</td><td>Finance</td><td>71000</td><td>72000.0</td></tr><tr><td>6</td><td>Frank</td><td>HR</td><td>66000</td><td>66000.0</td></tr><tr><td>7</td><td>Grace</td><td>HR</td><td>64000</td><td>65000.0</td></tr><tr><td>11</td><td>Kara</td><td>Marketing</td><td>80000</td><td>80000.0</td></tr><tr><td>4</td><td>David</td><td>Marketing</td><td>75000</td><td>77500.0</td></tr><tr><td>3</td><td>Charlie</td><td>Marketing</td><td>72000</td><td>75666.66666666667</td></tr><tr><td>10</td><td>Jack</td><td>Sales</td><td>78000</td><td>78000.0</td></tr><tr><td>1</td><td>Alice</td><td>Sales</td><td>70000</td><td>74000.0</td></tr><tr><td>5</td><td>Eve</td><td>Sales</td><td>69000</td><td>72333.33333333333</td></tr><tr><td>2</td><td>Bob</td><td>Sales</td><td>68000</td><td>71250.0</td></tr></tbody></table></div>"
      ]
     },
     "metadata": {
      "application/vnd.databricks.v1+output": {
       "addedWidgets": {},
       "aggData": [],
       "aggError": "",
       "aggOverflow": false,
       "aggSchema": [],
       "aggSeriesLimitReached": false,
       "aggType": "",
       "arguments": {},
       "columnCustomDisplayInfos": {},
       "data": [
        [
         8,
         "Hannah",
         "Finance",
         73000,
         73000.0
        ],
        [
         12,
         "Liam",
         "Finance",
         72000,
         72500.0
        ],
        [
         9,
         "Ian",
         "Finance",
         71000,
         72000.0
        ],
        [
         6,
         "Frank",
         "HR",
         66000,
         66000.0
        ],
        [
         7,
         "Grace",
         "HR",
         64000,
         65000.0
        ],
        [
         11,
         "Kara",
         "Marketing",
         80000,
         80000.0
        ],
        [
         4,
         "David",
         "Marketing",
         75000,
         77500.0
        ],
        [
         3,
         "Charlie",
         "Marketing",
         72000,
         75666.66666666667
        ],
        [
         10,
         "Jack",
         "Sales",
         78000,
         78000.0
        ],
        [
         1,
         "Alice",
         "Sales",
         70000,
         74000.0
        ],
        [
         5,
         "Eve",
         "Sales",
         69000,
         72333.33333333333
        ],
        [
         2,
         "Bob",
         "Sales",
         68000,
         71250.0
        ]
       ],
       "datasetInfos": [],
       "dbfsResultPath": null,
       "isJsonSchema": true,
       "metadata": {},
       "overflow": false,
       "plotOptions": {
        "customPlotOptions": {},
        "displayType": "table",
        "pivotAggregation": null,
        "pivotColumns": null,
        "xColumns": null,
        "yColumns": null
       },
       "removedWidgets": [],
       "schema": [
        {
         "metadata": "{}",
         "name": "EmployeeID",
         "type": "\"integer\""
        },
        {
         "metadata": "{\"__CHAR_VARCHAR_TYPE_STRING\":\"varchar(50)\"}",
         "name": "Name",
         "type": "\"string\""
        },
        {
         "metadata": "{\"__CHAR_VARCHAR_TYPE_STRING\":\"varchar(50)\"}",
         "name": "Department",
         "type": "\"string\""
        },
        {
         "metadata": "{}",
         "name": "Salary",
         "type": "\"integer\""
        },
        {
         "metadata": "{}",
         "name": "RunningAvgSalary",
         "type": "\"double\""
        }
       ],
       "type": "table"
      }
     },
     "output_type": "display_data"
    }
   ],
   "source": [
    "%sql\n",
    "SELECT \n",
    "    EmployeeID,\n",
    "    Name,\n",
    "    Department,\n",
    "    Salary,\n",
    "    AVG(Salary) OVER (PARTITION BY Department ORDER BY Salary DESC ROWS BETWEEN UNBOUNDED PRECEDING AND CURRENT ROW) AS RunningAvgSalary\n",
    "FROM Employee;\n"
   ]
  },
  {
   "cell_type": "code",
   "execution_count": 0,
   "metadata": {
    "application/vnd.databricks.v1+cell": {
     "cellMetadata": {
      "byteLimit": 2048000,
      "implicitDf": true,
      "rowLimit": 10000
     },
     "inputWidgets": {},
     "nuid": "a6b50ed0-535f-4994-884e-521b7358b5d4",
     "showTitle": false,
     "tableResultSettingsMap": {},
     "title": ""
    }
   },
   "outputs": [
    {
     "output_type": "display_data",
     "data": {
      "text/html": [
       "<style scoped>\n",
       "  .table-result-container {\n",
       "    max-height: 300px;\n",
       "    overflow: auto;\n",
       "  }\n",
       "  table, th, td {\n",
       "    border: 1px solid black;\n",
       "    border-collapse: collapse;\n",
       "  }\n",
       "  th, td {\n",
       "    padding: 5px;\n",
       "  }\n",
       "  th {\n",
       "    text-align: left;\n",
       "  }\n",
       "</style><div class='table-result-container'><table class='table-result'><thead style='background-color: white'><tr><th>EmployeeID</th><th>Name</th><th>Department</th><th>TenureYears</th><th>TenureRank</th></tr></thead><tbody><tr><td>9</td><td>Ian</td><td>Finance</td><td>4.706366</td><td>1</td></tr><tr><td>12</td><td>Liam</td><td>Finance</td><td>3.800137</td><td>2</td></tr><tr><td>8</td><td>Hannah</td><td>Finance</td><td>2.250513</td><td>3</td></tr><tr><td>6</td><td>Frank</td><td>HR</td><td>5.514031</td><td>1</td></tr><tr><td>7</td><td>Grace</td><td>HR</td><td>3.441478</td><td>2</td></tr><tr><td>3</td><td>Charlie</td><td>Marketing</td><td>4.303901</td><td>1</td></tr><tr><td>4</td><td>David</td><td>Marketing</td><td>2.981520</td><td>2</td></tr><tr><td>11</td><td>Kara</td><td>Marketing</td><td>2.540726</td><td>3</td></tr><tr><td>5</td><td>Eve</td><td>Sales</td><td>4.772074</td><td>1</td></tr><tr><td>1</td><td>Alice</td><td>Sales</td><td>3.679671</td><td>2</td></tr><tr><td>2</td><td>Bob</td><td>Sales</td><td>2.581793</td><td>3</td></tr><tr><td>10</td><td>Jack</td><td>Sales</td><td>1.856263</td><td>4</td></tr></tbody></table></div>"
      ]
     },
     "metadata": {
      "application/vnd.databricks.v1+output": {
       "addedWidgets": {},
       "aggData": [],
       "aggError": "",
       "aggOverflow": false,
       "aggSchema": [],
       "aggSeriesLimitReached": false,
       "aggType": "",
       "arguments": {},
       "columnCustomDisplayInfos": {},
       "data": [
        [
         9,
         "Ian",
         "Finance",
         "4.706366",
         1
        ],
        [
         12,
         "Liam",
         "Finance",
         "3.800137",
         2
        ],
        [
         8,
         "Hannah",
         "Finance",
         "2.250513",
         3
        ],
        [
         6,
         "Frank",
         "HR",
         "5.514031",
         1
        ],
        [
         7,
         "Grace",
         "HR",
         "3.441478",
         2
        ],
        [
         3,
         "Charlie",
         "Marketing",
         "4.303901",
         1
        ],
        [
         4,
         "David",
         "Marketing",
         "2.981520",
         2
        ],
        [
         11,
         "Kara",
         "Marketing",
         "2.540726",
         3
        ],
        [
         5,
         "Eve",
         "Sales",
         "4.772074",
         1
        ],
        [
         1,
         "Alice",
         "Sales",
         "3.679671",
         2
        ],
        [
         2,
         "Bob",
         "Sales",
         "2.581793",
         3
        ],
        [
         10,
         "Jack",
         "Sales",
         "1.856263",
         4
        ]
       ],
       "datasetInfos": [],
       "dbfsResultPath": null,
       "isJsonSchema": true,
       "metadata": {},
       "overflow": false,
       "plotOptions": {
        "customPlotOptions": {},
        "displayType": "table",
        "pivotAggregation": null,
        "pivotColumns": null,
        "xColumns": null,
        "yColumns": null
       },
       "removedWidgets": [],
       "schema": [
        {
         "metadata": "{}",
         "name": "EmployeeID",
         "type": "\"integer\""
        },
        {
         "metadata": "{\"__CHAR_VARCHAR_TYPE_STRING\":\"varchar(50)\"}",
         "name": "Name",
         "type": "\"string\""
        },
        {
         "metadata": "{\"__CHAR_VARCHAR_TYPE_STRING\":\"varchar(50)\"}",
         "name": "Department",
         "type": "\"string\""
        },
        {
         "metadata": "{}",
         "name": "TenureYears",
         "type": "\"decimal(18,6)\""
        },
        {
         "metadata": "{}",
         "name": "TenureRank",
         "type": "\"integer\""
        }
       ],
       "type": "table"
      }
     },
     "output_type": "display_data"
    }
   ],
   "source": [
    "%sql\n",
    "SELECT \n",
    "    EmployeeID,\n",
    "    Name,\n",
    "    Department,\n",
    "    DATEDIFF(CURRENT_DATE, JoiningDate) / 365.25 AS TenureYears,\n",
    "    RANK() OVER (PARTITION BY Department ORDER BY DATEDIFF(CURRENT_DATE, JoiningDate) / 365.25 DESC) AS TenureRank\n",
    "FROM Employee;\n"
   ]
  }
 ],
 "metadata": {
  "application/vnd.databricks.v1+notebook": {
   "dashboards": [],
   "environmentMetadata": null,
   "language": "python",
   "notebookMetadata": {
    "mostRecentlyExecutedCommandWithImplicitDF": {
     "commandId": 4136628984228672,
     "dataframes": [
      "_sqldf"
     ]
    },
    "pythonIndentUnit": 2
   },
   "notebookName": "venkat assignment 1",
   "widgets": {}
  }
 },
 "nbformat": 4,
 "nbformat_minor": 0
}
